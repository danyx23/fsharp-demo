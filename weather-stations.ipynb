{
  "cells": [
    {
      "cell_type": "markdown",
      "metadata": {},
      "source": [
        "# Download Stations file from Meteostat.net\n",
        "\n",
        "We have to fetch the file that describes all the stations covered by Metostat from https://bulk.meteostat.net/stations/full.json.gz"
      ]
    },
    {
      "cell_type": "code",
      "execution_count": 1,
      "metadata": {
        "dotnet_interactive": {
          "language": "fsharp"
        }
      },
      "source": [
        "let stationsFilenameZipped = \"stations.json.gz\"\n",
        "let stationsFilename = \"stations.json\""
      ],
      "outputs": []
    },
    {
      "cell_type": "code",
      "execution_count": 1,
      "metadata": {
        "dotnet_interactive": {
          "language": "fsharp"
        }
      },
      "source": [
        "let client = new System.Net.WebClient()\n",
        "client.DownloadFile(\"https://bulk.meteostat.net/stations/full.json.gz\", stationsFilenameZipped) \n",
        "client.Dispose()"
      ],
      "outputs": []
    },
    {
      "cell_type": "code",
      "execution_count": 1,
      "metadata": {
        "dotnet_interactive": {
          "language": "fsharp"
        }
      },
      "source": [
        "#load \"UnzipHelper.fsx\"\n",
        "open UnzipHelper\n",
        "unzipGzFile stationsFilenameZipped stationsFilename"
      ],
      "outputs": []
    },
    {
      "cell_type": "code",
      "execution_count": 1,
      "metadata": {
        "dotnet_interactive": {
          "language": "fsharp"
        }
      },
      "source": [
        "#r \"nuget: FSharp.Data\"\n",
        "open FSharp.Data\n",
        "\n",
        "let [<Literal>] examplefile = (__SOURCE_DIRECTORY__ + \"\\\\stations.json\")\n",
        "\n",
        "type Stations = JsonProvider<examplefile>\n",
        "let stations = Stations.Load(examplefile)"
      ],
      "outputs": [
        {
          "output_type": "execute_result",
          "data": {
            "text/plain": "Installed package FSharp.Data version 3.3.3"
          },
          "execution_count": 1,
          "metadata": {}
        }
      ]
    },
    {
      "cell_type": "code",
      "execution_count": 1,
      "metadata": {
        "dotnet_interactive": {
          "language": "fsharp"
        }
      },
      "source": [
        "printfn \"%O\" stations.[0]"
      ],
      "outputs": [
        {
          "output_type": "execute_result",
          "data": {
            "text/plain": "{\r\n  \"id\": \"01001\",\r\n  \"name\": {\r\n    \"en\": \"Jan Mayen\"\r\n  },\r\n  \"country\": \"NO\",\r\n  \"region\": null,\r\n  \"identifiers\": {\r\n    \"national\": null,\r\n    \"wmo\": \"01001\",\r\n    \"ghcn\": \"JNM00001001\",\r\n    \"wban\": null,\r\n    \"usaf\": \"010010\",\r\n    \"icao\": \"ENJA\",\r\n    \"iata\": null\r\n  },\r\n  \"location\": {\r\n    \"latitude\": 70.9333,\r\n    \"longitude\": -8.6667,\r\n    \"elevation\": 10\r\n  },\r\n  \"timezone\": \"Europe/Oslo\",\r\n  \"history\": [],\r\n  \"inventory\": {\r\n    \"hourly\": {\r\n      \"start\": \"1955-01-01\",\r\n      \"end\": \"2021-03-09\"\r\n    },\r\n    \"daily\": {\r\n      \"start\": \"1922-01-01\",\r\n      \"end\": \"2021-02-22\"\r\n    }\r\n  }\r\n}"
          },
          "execution_count": 1,
          "metadata": {}
        },
        {
          "output_type": "execute_result",
          "data": {
            "text/plain": "\r\n"
          },
          "execution_count": 1,
          "metadata": {}
        }
      ]
    },
    {
      "cell_type": "code",
      "execution_count": 1,
      "metadata": {
        "dotnet_interactive": {
          "language": "fsharp"
        }
      },
      "source": [
        "seq {\n",
        "    for station in stations do\n",
        "        if station.Name.En.String.IsSome && station.Name.En.String.Value.StartsWith(\"Berlin\") then\n",
        "            yield sprintf \"Station %A has name %s\" (station.Id) station.Name.En.String.Value\n",
        "}"
      ],
      "outputs": [
        {
          "output_type": "execute_result",
          "data": {
            "text/html": "<table><thead><tr><th><i>index</i></th><th>value</th></tr></thead><tbody><tr><td>0</td><td><div class=\"dni-plaintext\">Station &quot;10381&quot; has name Berlin / Dahlem</div></td></tr><tr><td>1</td><td><div class=\"dni-plaintext\">Station &quot;10382&quot; has name Berlin / Tegel</div></td></tr><tr><td>2</td><td><div class=\"dni-plaintext\">Station &quot;10384&quot; has name Berlin / Tempelhof</div></td></tr><tr><td>3</td><td><div class=\"dni-plaintext\">Station &quot;10385&quot; has name Berlin / Sch&#246;nefeld</div></td></tr><tr><td>4</td><td><div class=\"dni-plaintext\">Station &quot;10389&quot; has name Berlin / Alexanderplatz</div></td></tr><tr><td>5</td><td><div class=\"dni-plaintext\">Station &quot;72616&quot; has name Berlin Municipal Airport</div></td></tr><tr><td>6</td><td><div class=\"dni-plaintext\">Station &quot;D0400&quot; has name Berlin-Buch</div></td></tr><tr><td>7</td><td><div class=\"dni-plaintext\">Station &quot;D0420&quot; has name Berlin-Marzahn</div></td></tr><tr><td>8</td><td><div class=\"dni-plaintext\">Station &quot;ETNB0&quot; has name Berlin / Reinickendorf</div></td></tr><tr><td>9</td><td><div class=\"dni-plaintext\">Station &quot;K19N0&quot; has name Berlin / Albion</div></td></tr><tr><td>10</td><td><div class=\"dni-plaintext\">Station &quot;KAGK0&quot; has name Berlin / Albion</div></td></tr></tbody></table>"
          },
          "execution_count": 1,
          "metadata": {}
        }
      ]
    },
    {
      "cell_type": "code",
      "execution_count": 1,
      "metadata": {
        "dotnet_interactive": {
          "language": "fsharp"
        }
      },
      "source": [
        "stations\n",
        "|> Seq.filter (fun station -> station.Name.En.String.IsSome && station.Name.En.String.Value.StartsWith(\"Berlin\"))\n",
        "|> Seq.map (fun station -> sprintf \"Station %A has name %s\" (station.Id) station.Name.En.String.Value)"
      ],
      "outputs": [
        {
          "output_type": "execute_result",
          "data": {
            "text/html": "<table><thead><tr><th><i>index</i></th><th>value</th></tr></thead><tbody><tr><td>0</td><td><div class=\"dni-plaintext\">Station &quot;10381&quot; has name Berlin / Dahlem</div></td></tr><tr><td>1</td><td><div class=\"dni-plaintext\">Station &quot;10382&quot; has name Berlin / Tegel</div></td></tr><tr><td>2</td><td><div class=\"dni-plaintext\">Station &quot;10384&quot; has name Berlin / Tempelhof</div></td></tr><tr><td>3</td><td><div class=\"dni-plaintext\">Station &quot;10385&quot; has name Berlin / Sch&#246;nefeld</div></td></tr><tr><td>4</td><td><div class=\"dni-plaintext\">Station &quot;10389&quot; has name Berlin / Alexanderplatz</div></td></tr><tr><td>5</td><td><div class=\"dni-plaintext\">Station &quot;72616&quot; has name Berlin Municipal Airport</div></td></tr><tr><td>6</td><td><div class=\"dni-plaintext\">Station &quot;D0400&quot; has name Berlin-Buch</div></td></tr><tr><td>7</td><td><div class=\"dni-plaintext\">Station &quot;D0420&quot; has name Berlin-Marzahn</div></td></tr><tr><td>8</td><td><div class=\"dni-plaintext\">Station &quot;ETNB0&quot; has name Berlin / Reinickendorf</div></td></tr><tr><td>9</td><td><div class=\"dni-plaintext\">Station &quot;K19N0&quot; has name Berlin / Albion</div></td></tr><tr><td>10</td><td><div class=\"dni-plaintext\">Station &quot;KAGK0&quot; has name Berlin / Albion</div></td></tr></tbody></table>"
          },
          "execution_count": 1,
          "metadata": {}
        }
      ]
    },
    {
      "cell_type": "code",
      "execution_count": 1,
      "metadata": {
        "dotnet_interactive": {
          "language": "fsharp"
        }
      },
      "source": [
        "query {\n",
        "    for station in stations do\n",
        "    where (station.Country.String.Value = \"DE\")\n",
        "    select station.Name\n",
        "    count\n",
        "}"
      ],
      "outputs": [
        {
          "output_type": "execute_result",
          "data": {
            "text/html": "<div class=\"dni-plaintext\">1831</div>"
          },
          "execution_count": 1,
          "metadata": {}
        }
      ]
    }
  ],
  "metadata": {
    "kernelspec": {
      "display_name": ".NET (C#)",
      "language": "C#",
      "name": ".net-csharp"
    },
    "language_info": {
      "file_extension": ".cs",
      "mimetype": "text/x-csharp",
      "name": "C#",
      "pygments_lexer": "csharp",
      "version": "8.0"
    }
  },
  "nbformat": 4,
  "nbformat_minor": 4
}
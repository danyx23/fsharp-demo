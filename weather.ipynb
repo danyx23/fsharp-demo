{
  "cells": [
    {
      "cell_type": "markdown",
      "metadata": {},
      "source": [
        "# Download Berlin Tempelhof weather data\n",
        "\n",
        "Download the historical weather data by day for Berlin Tempelhof"
      ]
    },
    {
      "cell_type": "code",
      "execution_count": 1,
      "metadata": {
        "dotnet_interactive": {
          "language": "fsharp"
        }
      },
      "source": [
        "let getStationDownloadUrl (stationId : string) = \n",
        "    $\"https://bulk.meteostat.net/daily/{stationId}.csv.gz\""
      ],
      "outputs": []
    },
    {
      "cell_type": "code",
      "execution_count": 1,
      "metadata": {
        "dotnet_interactive": {
          "language": "fsharp"
        }
      },
      "source": [
        "let berlinWeatherDataFilenameZipped = \"berlin-weather.csv.gz\"\n",
        "let berlinWeatherDataFilename = \"berlin-weather.csv\""
      ],
      "outputs": []
    },
    {
      "cell_type": "code",
      "execution_count": 1,
      "metadata": {
        "dotnet_interactive": {
          "language": "fsharp"
        }
      },
      "source": [
        "let client = new System.Net.WebClient()\n",
        "let stationIdBerlinTempelhof = \"10384\"\n",
        "let dataDownloadUrl = getStationDownloadUrl stationIdBerlinTempelhof\n",
        "client.DownloadFile(dataDownloadUrl, berlinWeatherDataFilenameZipped) \n",
        "client.Dispose()"
      ],
      "outputs": []
    },
    {
      "cell_type": "code",
      "execution_count": 1,
      "metadata": {
        "dotnet_interactive": {
          "language": "fsharp"
        }
      },
      "source": [
        "#load \"UnzipHelper.fsx\"\n",
        "open UnzipHelper\n",
        "unzipGzFile berlinWeatherDataFilenameZipped berlinWeatherDataFilename"
      ],
      "outputs": []
    }
  ],
  "metadata": {
    "kernelspec": {
      "display_name": ".NET (C#)",
      "language": "C#",
      "name": ".net-csharp"
    },
    "language_info": {
      "file_extension": ".cs",
      "mimetype": "text/x-csharp",
      "name": "C#",
      "pygments_lexer": "csharp",
      "version": "8.0"
    }
  },
  "nbformat": 4,
  "nbformat_minor": 4
}
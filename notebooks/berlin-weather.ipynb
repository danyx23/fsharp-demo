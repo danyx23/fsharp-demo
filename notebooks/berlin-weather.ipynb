{
  "cells": [
    {
      "cell_type": "markdown",
      "metadata": {},
      "source": [
        "# Load berlin weather data and analyze it"
      ]
    },
    {
      "cell_type": "code",
      "execution_count": 1,
      "metadata": {
        "dotnet_interactive": {
          "language": "fsharp"
        }
      },
      "source": [
        "[<Literal>]\n",
        "let berlinWeatherDataFilename = \"berlin-weather.csv\""
      ],
      "outputs": []
    },
    {
      "cell_type": "code",
      "execution_count": 1,
      "metadata": {
        "dotnet_interactive": {
          "language": "fsharp"
        }
      },
      "source": [
        "#r \"nuget: FSharp.Data\"\n",
        "open FSharp.Data"
      ],
      "outputs": [
        {
          "output_type": "execute_result",
          "data": {
            "text/plain": "Installed package FSharp.Data version 3.3.3"
          },
          "execution_count": 1,
          "metadata": {}
        }
      ]
    },
    {
      "cell_type": "code",
      "execution_count": 1,
      "metadata": {
        "dotnet_interactive": {
          "language": "fsharp"
        }
      },
      "source": [
        "type WeatherHistory = CsvProvider<\"berlin-weather.csv\", HasHeaders=false, Schema = \"Date (date), AverageTemperature (float), MinimumTemperature , MaximumTemperature, Precipitation, SnowDepth (float), WindDirection (float), AverageWindSpeed (float), WindGustSpeed (float), AverageSeaLevelAirPressure (float), SunshineDuration (float)\">\n",
        "let weatherHistory = WeatherHistory.Load(\"berlin-weather.csv\")"
      ],
      "outputs": []
    },
    {
      "cell_type": "code",
      "execution_count": 1,
      "metadata": {
        "dotnet_interactive": {
          "language": "fsharp"
        }
      },
      "source": [
        "weatherHistory.Rows |> Seq.last |> printfn \"%A\""
      ],
      "outputs": [
        {
          "output_type": "execute_result",
          "data": {
            "text/plain": "(27.02.2021 00:00:00, nan, nan, nan, 0.0, nan, 295.4, 17.5, 39.0, nan, nan)"
          },
          "execution_count": 1,
          "metadata": {}
        },
        {
          "output_type": "execute_result",
          "data": {
            "text/plain": "\r\n"
          },
          "execution_count": 1,
          "metadata": {}
        }
      ]
    },
    {
      "cell_type": "code",
      "execution_count": 1,
      "metadata": {
        "dotnet_interactive": {
          "language": "fsharp"
        }
      },
      "source": [
        "let lastTenDays =\n",
        "    weatherHistory.Rows \n",
        "        |> Seq.toArray\n",
        "        |> fun rows -> rows.[^10..] |> Array.map (fun row -> row)\n",
        "           \n",
        "lastTenDays"
      ],
      "outputs": [
        {
          "output_type": "execute_result",
          "data": {
            "text/html": "<table><thead><tr><th><i>index</i></th><th>Item1</th><th>Item2</th><th>Item3</th><th>Item4</th><th>Item5</th><th>Item6</th><th>Item7</th><th>Rest</th></tr></thead><tbody><tr><td>0</td><td><span>2021-02-17 00:00:00Z</span></td><td><div class=\"dni-plaintext\">5.2</div></td><td><div class=\"dni-plaintext\">2</div></td><td><div class=\"dni-plaintext\">7.9</div></td><td><div class=\"dni-plaintext\">0.7</div></td><td><div class=\"dni-plaintext\">NaN</div></td><td><div class=\"dni-plaintext\">232.1</div></td><td><div class=\"dni-plaintext\">( 13.7, 44.3, 1014.7, 34 )</div></td></tr><tr><td>1</td><td><span>2021-02-18 00:00:00Z</span></td><td><div class=\"dni-plaintext\">7.2</div></td><td><div class=\"dni-plaintext\">3.7</div></td><td><div class=\"dni-plaintext\">10.8</div></td><td><div class=\"dni-plaintext\">3.1</div></td><td><div class=\"dni-plaintext\">NaN</div></td><td><div class=\"dni-plaintext\">168.8</div></td><td><div class=\"dni-plaintext\">( 10.4, 32.4, 1017.2, 314 )</div></td></tr><tr><td>2</td><td><span>2021-02-19 00:00:00Z</span></td><td><div class=\"dni-plaintext\">6.5</div></td><td><div class=\"dni-plaintext\">1.7</div></td><td><div class=\"dni-plaintext\">10.2</div></td><td><div class=\"dni-plaintext\">0</div></td><td><div class=\"dni-plaintext\">NaN</div></td><td><div class=\"dni-plaintext\">224.6</div></td><td><div class=\"dni-plaintext\">( 13.7, 41.4, 1017, 349 )</div></td></tr><tr><td>3</td><td><span>2021-02-20 00:00:00Z</span></td><td><div class=\"dni-plaintext\">6.4</div></td><td><div class=\"dni-plaintext\">0.1</div></td><td><div class=\"dni-plaintext\">13</div></td><td><div class=\"dni-plaintext\">0</div></td><td><div class=\"dni-plaintext\">NaN</div></td><td><div class=\"dni-plaintext\">142.5</div></td><td><div class=\"dni-plaintext\">( 10.4, 30.2, 1019.8, 408 )</div></td></tr><tr><td>4</td><td><span>2021-02-21 00:00:00Z</span></td><td><div class=\"dni-plaintext\">8.9</div></td><td><div class=\"dni-plaintext\">3.4</div></td><td><div class=\"dni-plaintext\">17.1</div></td><td><div class=\"dni-plaintext\">0</div></td><td><div class=\"dni-plaintext\">NaN</div></td><td><div class=\"dni-plaintext\">160.4</div></td><td><div class=\"dni-plaintext\">( 10.8, 23.4, 1019, 548 )</div></td></tr><tr><td>5</td><td><span>2021-02-22 00:00:00Z</span></td><td><div class=\"dni-plaintext\">6.6</div></td><td><div class=\"dni-plaintext\">1.2</div></td><td><div class=\"dni-plaintext\">14.1</div></td><td><div class=\"dni-plaintext\">0</div></td><td><div class=\"dni-plaintext\">NaN</div></td><td><div class=\"dni-plaintext\">159.6</div></td><td><div class=\"dni-plaintext\">( 7.9, 35.6, 1023, 559 )</div></td></tr><tr><td>6</td><td><span>2021-02-23 00:00:00Z</span></td><td><div class=\"dni-plaintext\">10.8</div></td><td><div class=\"dni-plaintext\">4.8</div></td><td><div class=\"dni-plaintext\">18.1</div></td><td><div class=\"dni-plaintext\">0</div></td><td><div class=\"dni-plaintext\">NaN</div></td><td><div class=\"dni-plaintext\">195.4</div></td><td><div class=\"dni-plaintext\">( 6.8, 19.4, 1031.1, 358 )</div></td></tr><tr><td>7</td><td><span>2021-02-24 00:00:00Z</span></td><td><div class=\"dni-plaintext\">13.3</div></td><td><div class=\"dni-plaintext\">8.9</div></td><td><div class=\"dni-plaintext\">19.6</div></td><td><div class=\"dni-plaintext\">0</div></td><td><div class=\"dni-plaintext\">NaN</div></td><td><div class=\"dni-plaintext\">205</div></td><td><div class=\"dni-plaintext\">( 8.6, 25.2, 1031.3, 436 )</div></td></tr><tr><td>8</td><td><span>2021-02-25 00:00:00Z</span></td><td><div class=\"dni-plaintext\">12.4</div></td><td><div class=\"dni-plaintext\">6.6</div></td><td><div class=\"dni-plaintext\">19.4</div></td><td><div class=\"dni-plaintext\">1.3</div></td><td><div class=\"dni-plaintext\">NaN</div></td><td><div class=\"dni-plaintext\">207.9</div></td><td><div class=\"dni-plaintext\">( 8.3, 38.2, 1026.9, 486 )</div></td></tr><tr><td>9</td><td><span>2021-02-26 00:00:00Z</span></td><td><div class=\"dni-plaintext\">8</div></td><td><div class=\"dni-plaintext\">5.8</div></td><td><div class=\"dni-plaintext\">9.5</div></td><td><div class=\"dni-plaintext\">2</div></td><td><div class=\"dni-plaintext\">NaN</div></td><td><div class=\"dni-plaintext\">278.3</div></td><td><div class=\"dni-plaintext\">( 14.9, 39, 1028.8, NaN )</div></td></tr><tr><td>10</td><td><span>2021-02-27 00:00:00Z</span></td><td><div class=\"dni-plaintext\">NaN</div></td><td><div class=\"dni-plaintext\">NaN</div></td><td><div class=\"dni-plaintext\">NaN</div></td><td><div class=\"dni-plaintext\">0</div></td><td><div class=\"dni-plaintext\">NaN</div></td><td><div class=\"dni-plaintext\">295.4</div></td><td><div class=\"dni-plaintext\">( 17.5, 39, NaN, NaN )</div></td></tr></tbody></table>"
          },
          "execution_count": 1,
          "metadata": {}
        }
      ]
    },
    {
      "cell_type": "code",
      "execution_count": 1,
      "metadata": {
        "dotnet_interactive": {
          "language": "fsharp"
        }
      },
      "source": [
        "type MyRow = \n",
        "    { Date : System.DateTime\n",
        "      AverageTemp : float\n",
        "      MinimumTemp : float\n",
        "      MaximumTemp : float\n",
        "      Precipitation : float\n",
        "      SnowDepth : float\n",
        "      WindDirection : float\n",
        "      AverageWindSpeed : float\n",
        "      WindGustSpeed : float\n",
        "      AverageSeaLevelAirPressure : float\n",
        "      SunshineDuration : float\n",
        "    }"
      ],
      "outputs": []
    },
    {
      "cell_type": "code",
      "execution_count": 1,
      "metadata": {
        "dotnet_interactive": {
          "language": "fsharp"
        }
      },
      "source": [
        "weatherHistory.Rows \n",
        "    |> Seq.filter (fun row -> not (System.Double.IsNaN row.AverageTemperature) ) \n",
        "    |> Seq.toArray \n",
        "    |> Array.sortByDescending (fun row -> row.AverageTemperature) \n",
        "    |> Array.take 20\n",
        "    |> Array.map (fun row -> \n",
        "        { Date = row.Date\n",
        "          AverageTemp = row.AverageTemperature\n",
        "          MinimumTemp = row.MinimumTemperature\n",
        "          MaximumTemp = row.MaximumTemperature\n",
        "          Precipitation = row.Precipitation\n",
        "          SnowDepth = row.SnowDepth\n",
        "          WindDirection = row.WindDirection\n",
        "          AverageWindSpeed = row.AverageWindSpeed\n",
        "          WindGustSpeed = row.WindGustSpeed\n",
        "          AverageSeaLevelAirPressure = row.AverageSeaLevelAirPressure\n",
        "          SunshineDuration = row.SunshineDuration\n",
        "        })"
      ],
      "outputs": [
        {
          "output_type": "execute_result",
          "data": {
            "text/html": "<table><thead><tr><th><i>index</i></th><th>Date</th><th>AverageTemp</th><th>MinimumTemp</th><th>MaximumTemp</th><th>Precipitation</th><th>SnowDepth</th><th>WindDirection</th><th>AverageWindSpeed</th><th>WindGustSpeed</th><th>AverageSeaLevelAirPressure</th><th>SunshineDuration</th></tr></thead><tbody><tr><td>0</td><td><span>2010-07-12 00:00:00Z</span></td><td><div class=\"dni-plaintext\">30.5</div></td><td><div class=\"dni-plaintext\">21.7</div></td><td><div class=\"dni-plaintext\">37.2</div></td><td><div class=\"dni-plaintext\">0</div></td><td><div class=\"dni-plaintext\">NaN</div></td><td><div class=\"dni-plaintext\">141.7</div></td><td><div class=\"dni-plaintext\">9.7</div></td><td><div class=\"dni-plaintext\">40.3</div></td><td><div class=\"dni-plaintext\">1012.2</div></td><td><div class=\"dni-plaintext\">786</div></td></tr><tr><td>1</td><td><span>1994-08-01 00:00:00Z</span></td><td><div class=\"dni-plaintext\">30.4</div></td><td><div class=\"dni-plaintext\">21.9</div></td><td><div class=\"dni-plaintext\">37.2</div></td><td><div class=\"dni-plaintext\">0</div></td><td><div class=\"dni-plaintext\">0</div></td><td><div class=\"dni-plaintext\">164.2</div></td><td><div class=\"dni-plaintext\">10.1</div></td><td><div class=\"dni-plaintext\">61.2</div></td><td><div class=\"dni-plaintext\">1009.8</div></td><td><div class=\"dni-plaintext\">804</div></td></tr><tr><td>2</td><td><span>2010-07-11 00:00:00Z</span></td><td><div class=\"dni-plaintext\">30.2</div></td><td><div class=\"dni-plaintext\">23.4</div></td><td><div class=\"dni-plaintext\">37.7</div></td><td><div class=\"dni-plaintext\">0</div></td><td><div class=\"dni-plaintext\">NaN</div></td><td><div class=\"dni-plaintext\">169.2</div></td><td><div class=\"dni-plaintext\">10.4</div></td><td><div class=\"dni-plaintext\">32.8</div></td><td><div class=\"dni-plaintext\">1016</div></td><td><div class=\"dni-plaintext\">822</div></td></tr><tr><td>3</td><td><span>2015-07-04 00:00:00Z</span></td><td><div class=\"dni-plaintext\">30.1</div></td><td><div class=\"dni-plaintext\">21.5</div></td><td><div class=\"dni-plaintext\">37.8</div></td><td><div class=\"dni-plaintext\">0.8</div></td><td><div class=\"dni-plaintext\">NaN</div></td><td><div class=\"dni-plaintext\">144.2</div></td><td><div class=\"dni-plaintext\">8.3</div></td><td><div class=\"dni-plaintext\">36.7</div></td><td><div class=\"dni-plaintext\">1019.9</div></td><td><div class=\"dni-plaintext\">761</div></td></tr><tr><td>4</td><td><span>1984-07-11 00:00:00Z</span></td><td><div class=\"dni-plaintext\">30</div></td><td><div class=\"dni-plaintext\">21</div></td><td><div class=\"dni-plaintext\">36.4</div></td><td><div class=\"dni-plaintext\">0.3</div></td><td><div class=\"dni-plaintext\">0</div></td><td><div class=\"dni-plaintext\">159.2</div></td><td><div class=\"dni-plaintext\">13.3</div></td><td><div class=\"dni-plaintext\">35.3</div></td><td><div class=\"dni-plaintext\">1010.8</div></td><td><div class=\"dni-plaintext\">804</div></td></tr><tr><td>5</td><td><span>1947-06-29 00:00:00Z</span></td><td><div class=\"dni-plaintext\">29.9</div></td><td><div class=\"dni-plaintext\">21.8</div></td><td><div class=\"dni-plaintext\">36.3</div></td><td><div class=\"dni-plaintext\">NaN</div></td><td><div class=\"dni-plaintext\">NaN</div></td><td><div class=\"dni-plaintext\">133.5</div></td><td><div class=\"dni-plaintext\">17.1</div></td><td><div class=\"dni-plaintext\">NaN</div></td><td><div class=\"dni-plaintext\">1020.7</div></td><td><div class=\"dni-plaintext\">NaN</div></td></tr><tr><td>6</td><td><span>1994-07-31 00:00:00Z</span></td><td><div class=\"dni-plaintext\">29.5</div></td><td><div class=\"dni-plaintext\">21.5</div></td><td><div class=\"dni-plaintext\">36.8</div></td><td><div class=\"dni-plaintext\">0</div></td><td><div class=\"dni-plaintext\">0</div></td><td><div class=\"dni-plaintext\">182.5</div></td><td><div class=\"dni-plaintext\">6.8</div></td><td><div class=\"dni-plaintext\">33.5</div></td><td><div class=\"dni-plaintext\">1010.6</div></td><td><div class=\"dni-plaintext\">684</div></td></tr><tr><td>7</td><td><span>2010-07-10 00:00:00Z</span></td><td><div class=\"dni-plaintext\">29.4</div></td><td><div class=\"dni-plaintext\">20</div></td><td><div class=\"dni-plaintext\">36.9</div></td><td><div class=\"dni-plaintext\">0</div></td><td><div class=\"dni-plaintext\">NaN</div></td><td><div class=\"dni-plaintext\">110.4</div></td><td><div class=\"dni-plaintext\">8.6</div></td><td><div class=\"dni-plaintext\">25.6</div></td><td><div class=\"dni-plaintext\">1018.3</div></td><td><div class=\"dni-plaintext\">846</div></td></tr><tr><td>8</td><td><span>2007-07-16 00:00:00Z</span></td><td><div class=\"dni-plaintext\">29.4</div></td><td><div class=\"dni-plaintext\">21.8</div></td><td><div class=\"dni-plaintext\">37.1</div></td><td><div class=\"dni-plaintext\">0</div></td><td><div class=\"dni-plaintext\">0</div></td><td><div class=\"dni-plaintext\">173.3</div></td><td><div class=\"dni-plaintext\">7.9</div></td><td><div class=\"dni-plaintext\">22.3</div></td><td><div class=\"dni-plaintext\">1012.1</div></td><td><div class=\"dni-plaintext\">810</div></td></tr><tr><td>9</td><td><span>2000-06-21 00:00:00Z</span></td><td><div class=\"dni-plaintext\">29.4</div></td><td><div class=\"dni-plaintext\">20.1</div></td><td><div class=\"dni-plaintext\">35.9</div></td><td><div class=\"dni-plaintext\">0.8</div></td><td><div class=\"dni-plaintext\">0</div></td><td><div class=\"dni-plaintext\">163.3</div></td><td><div class=\"dni-plaintext\">6.1</div></td><td><div class=\"dni-plaintext\">50.8</div></td><td><div class=\"dni-plaintext\">1011.8</div></td><td><div class=\"dni-plaintext\">684</div></td></tr><tr><td>10</td><td><span>1994-07-28 00:00:00Z</span></td><td><div class=\"dni-plaintext\">29.2</div></td><td><div class=\"dni-plaintext\">21.2</div></td><td><div class=\"dni-plaintext\">34.7</div></td><td><div class=\"dni-plaintext\">0</div></td><td><div class=\"dni-plaintext\">0</div></td><td><div class=\"dni-plaintext\">97.1</div></td><td><div class=\"dni-plaintext\">8.3</div></td><td><div class=\"dni-plaintext\">25.9</div></td><td><div class=\"dni-plaintext\">1015.8</div></td><td><div class=\"dni-plaintext\">816</div></td></tr><tr><td>11</td><td><span>2019-06-26 00:00:00Z</span></td><td><div class=\"dni-plaintext\">29.2</div></td><td><div class=\"dni-plaintext\">20</div></td><td><div class=\"dni-plaintext\">37.5</div></td><td><div class=\"dni-plaintext\">0</div></td><td><div class=\"dni-plaintext\">NaN</div></td><td><div class=\"dni-plaintext\">229.2</div></td><td><div class=\"dni-plaintext\">15.8</div></td><td><div class=\"dni-plaintext\">50</div></td><td><div class=\"dni-plaintext\">1019.3</div></td><td><div class=\"dni-plaintext\">879</div></td></tr><tr><td>12</td><td><span>2006-07-20 00:00:00Z</span></td><td><div class=\"dni-plaintext\">29.1</div></td><td><div class=\"dni-plaintext\">19.5</div></td><td><div class=\"dni-plaintext\">36.6</div></td><td><div class=\"dni-plaintext\">0</div></td><td><div class=\"dni-plaintext\">0</div></td><td><div class=\"dni-plaintext\">128.3</div></td><td><div class=\"dni-plaintext\">7.2</div></td><td><div class=\"dni-plaintext\">43.6</div></td><td><div class=\"dni-plaintext\">1017.7</div></td><td><div class=\"dni-plaintext\">834</div></td></tr><tr><td>13</td><td><span>1994-07-30 00:00:00Z</span></td><td><div class=\"dni-plaintext\">29.1</div></td><td><div class=\"dni-plaintext\">20.5</div></td><td><div class=\"dni-plaintext\">36.2</div></td><td><div class=\"dni-plaintext\">0</div></td><td><div class=\"dni-plaintext\">0</div></td><td><div class=\"dni-plaintext\">89.6</div></td><td><div class=\"dni-plaintext\">10.4</div></td><td><div class=\"dni-plaintext\">29.5</div></td><td><div class=\"dni-plaintext\">1013.5</div></td><td><div class=\"dni-plaintext\">696</div></td></tr><tr><td>14</td><td><span>1959-07-10 00:00:00Z</span></td><td><div class=\"dni-plaintext\">29</div></td><td><div class=\"dni-plaintext\">20.4</div></td><td><div class=\"dni-plaintext\">37</div></td><td><div class=\"dni-plaintext\">0</div></td><td><div class=\"dni-plaintext\">0</div></td><td><div class=\"dni-plaintext\">NaN</div></td><td><div class=\"dni-plaintext\">11.5</div></td><td><div class=\"dni-plaintext\">NaN</div></td><td><div class=\"dni-plaintext\">1014.2</div></td><td><div class=\"dni-plaintext\">NaN</div></td></tr><tr><td>15</td><td><span>2015-07-05 00:00:00Z</span></td><td><div class=\"dni-plaintext\">28.9</div></td><td><div class=\"dni-plaintext\">20.8</div></td><td><div class=\"dni-plaintext\">36.6</div></td><td><div class=\"dni-plaintext\">10.6</div></td><td><div class=\"dni-plaintext\">NaN</div></td><td><div class=\"dni-plaintext\">177.1</div></td><td><div class=\"dni-plaintext\">10.4</div></td><td><div class=\"dni-plaintext\">63.7</div></td><td><div class=\"dni-plaintext\">1015.7</div></td><td><div class=\"dni-plaintext\">495</div></td></tr><tr><td>16</td><td><span>2018-08-08 00:00:00Z</span></td><td><div class=\"dni-plaintext\">28.9</div></td><td><div class=\"dni-plaintext\">22.4</div></td><td><div class=\"dni-plaintext\">38</div></td><td><div class=\"dni-plaintext\">2.2</div></td><td><div class=\"dni-plaintext\">NaN</div></td><td><div class=\"dni-plaintext\">178.3</div></td><td><div class=\"dni-plaintext\">11.9</div></td><td><div class=\"dni-plaintext\">45.4</div></td><td><div class=\"dni-plaintext\">1010.5</div></td><td><div class=\"dni-plaintext\">632</div></td></tr><tr><td>17</td><td><span>1959-07-11 00:00:00Z</span></td><td><div class=\"dni-plaintext\">28.9</div></td><td><div class=\"dni-plaintext\">19.7</div></td><td><div class=\"dni-plaintext\">38.1</div></td><td><div class=\"dni-plaintext\">0</div></td><td><div class=\"dni-plaintext\">0</div></td><td><div class=\"dni-plaintext\">124</div></td><td><div class=\"dni-plaintext\">13.4</div></td><td><div class=\"dni-plaintext\">NaN</div></td><td><div class=\"dni-plaintext\">1011.9</div></td><td><div class=\"dni-plaintext\">NaN</div></td></tr><tr><td>18</td><td><span>1994-08-05 00:00:00Z</span></td><td><div class=\"dni-plaintext\">28.9</div></td><td><div class=\"dni-plaintext\">18</div></td><td><div class=\"dni-plaintext\">34.9</div></td><td><div class=\"dni-plaintext\">0.2</div></td><td><div class=\"dni-plaintext\">0</div></td><td><div class=\"dni-plaintext\">130</div></td><td><div class=\"dni-plaintext\">10.8</div></td><td><div class=\"dni-plaintext\">55.4</div></td><td><div class=\"dni-plaintext\">1017.8</div></td><td><div class=\"dni-plaintext\">834</div></td></tr><tr><td>19</td><td><span>2018-07-31 00:00:00Z</span></td><td><div class=\"dni-plaintext\">28.8</div></td><td><div class=\"dni-plaintext\">20</div></td><td><div class=\"dni-plaintext\">36.1</div></td><td><div class=\"dni-plaintext\">0</div></td><td><div class=\"dni-plaintext\">NaN</div></td><td><div class=\"dni-plaintext\">105.4</div></td><td><div class=\"dni-plaintext\">10.8</div></td><td><div class=\"dni-plaintext\">37.8</div></td><td><div class=\"dni-plaintext\">1016.3</div></td><td><div class=\"dni-plaintext\">844</div></td></tr></tbody></table>"
          },
          "execution_count": 1,
          "metadata": {}
        }
      ]
    }
  ],
  "metadata": {
    "kernelspec": {
      "display_name": ".NET (C#)",
      "language": "C#",
      "name": ".net-csharp"
    },
    "language_info": {
      "file_extension": ".cs",
      "mimetype": "text/x-csharp",
      "name": "C#",
      "pygments_lexer": "csharp",
      "version": "8.0"
    }
  },
  "nbformat": 4,
  "nbformat_minor": 4
}